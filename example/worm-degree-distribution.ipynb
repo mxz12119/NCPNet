{
 "cells": [
  {
   "cell_type": "code",
   "execution_count": 1,
   "metadata": {},
   "outputs": [
    {
     "name": "stdout",
     "output_type": "stream",
     "text": [
      "/data/users/wgj/project/HemiBrain/src\n"
     ]
    }
   ],
   "source": [
    "import os\n",
    "import sys\n",
    "import networkx as nx\n",
    "import random\n",
    "import numpy as np\n",
    "import os\n",
    "from NCPNet.brain_data import Celegans19\n",
    "from torch_geometric.utils import to_networkx\n",
    "import matplotlib.pyplot as plt\n",
    "import yaml\n",
    "import math\n"
   ]
  },
  {
   "cell_type": "code",
   "execution_count": 2,
   "metadata": {},
   "outputs": [],
   "source": [
    "def to_networkx(data, weight=None,to_undirected=False,remove_self_loops=False):\n",
    "    if to_undirected:\n",
    "        G = nx.Graph()\n",
    "    else:\n",
    "        G = nx.DiGraph()\n",
    "    to_undirected = \"upper\" if to_undirected is True else to_undirected\n",
    "    to_undirected_upper = True if to_undirected == \"upper\" else False\n",
    "    to_undirected_lower = True if to_undirected == \"lower\" else False\n",
    "    for i, (u, v) in enumerate(data.edge_index.t().tolist()):\n",
    "    \n",
    "        if to_undirected_upper and u > v:\n",
    "            continue\n",
    "        elif to_undirected_lower and u < v:\n",
    "            continue\n",
    "\n",
    "        if remove_self_loops and u == v:\n",
    "            continue\n",
    "\n",
    "        G.add_edge(u, v)\n",
    "\n",
    "        if weight is not None:\n",
    "            G[u][v]['weight'] = weight[i]\n",
    "    return G\n",
    "\n"
   ]
  },
  {
   "cell_type": "code",
   "execution_count": 3,
   "metadata": {},
   "outputs": [],
   "source": [
    "work_dir='.'\n",
    "task_name='C.Elegans19'\n",
    "path=os.path.join(work_dir,'data',task_name)\n",
    "dataset=Celegans19(path)\n",
    "G=to_networkx(dataset.data,weight=dataset.data.edge_weight)\n"
   ]
  },
  {
   "cell_type": "code",
   "execution_count": 4,
   "metadata": {},
   "outputs": [
    {
     "name": "stdout",
     "output_type": "stream",
     "text": [
      "worm-density:0.02248\n",
      "worm-node number:590\n",
      "worm-edgenumber:7813\n",
      "worm-average degree:26.48475\n"
     ]
    }
   ],
   "source": [
    "density=nx.density(G)\n",
    "print('worm-density:%.5f'%density)\n",
    "deg=nx.degree(G)\n",
    "\n",
    "deg_t=sum([v for k,v in list(deg)])/len(G.nodes)\n",
    "print('worm-node number:%d'%(len(G.nodes)))\n",
    "print('worm-edgenumber:%d'%(len(G.edges)))\n",
    "\n",
    "print('worm-average degree:%.5f'%deg_t)\n"
   ]
  },
  {
   "cell_type": "code",
   "execution_count": 5,
   "metadata": {},
   "outputs": [],
   "source": [
    "all_sp=nx.all_pairs_shortest_path_length(G)\n",
    "sp=list(all_sp)\n",
    "c_sp=[]\n",
    "for i,t in sp:\n",
    "    for q,p in t.items():\n",
    "        if q!=i:\n",
    "            c_sp.append(p)\n",
    "charastic_sp=c_sp[int(len(c_sp)/2)]\n",
    "print('charastic-average_shortest_path:%.5f'%charastic_sp)"
   ]
  },
  {
   "cell_type": "code",
   "execution_count": 8,
   "metadata": {},
   "outputs": [
    {
     "name": "stdout",
     "output_type": "stream",
     "text": [
      "average_shortest_path_length:3.70289\n"
     ]
    }
   ],
   "source": [
    "\n",
    "res=[]\n",
    "for C in (G.subgraph(c).copy() for c in nx.weakly_connected_components(G)):\n",
    "    res.append(nx.average_shortest_path_length(C))\n",
    "\n",
    "print('average_shortest_path_length:%.5f'%max(res))\n"
   ]
  },
  {
   "cell_type": "code",
   "execution_count": 9,
   "metadata": {},
   "outputs": [
    {
     "name": "stdout",
     "output_type": "stream",
     "text": [
      "average_clusterting:0.25915\n"
     ]
    }
   ],
   "source": [
    "average_clusterting=nx.average_clustering(G)\n",
    "print('average_clusterting:%.5f'%average_clusterting)\n"
   ]
  },
  {
   "cell_type": "code",
   "execution_count": 10,
   "metadata": {},
   "outputs": [
    {
     "data": {
      "image/png": "[encoded data removed]",
      "text/plain": [
       "<Figure size 432x288 with 1 Axes>"
      ]
     },
     "metadata": {
      "needs_background": "light"
     },
     "output_type": "display_data"
    }
   ],
   "source": [
    "de=nx.degree(G,weight=True)\n",
    "deg=[v for k,v in list(de)]\n",
    "er={}\n",
    "\n",
    "for i in deg:\n",
    "    if i in er:\n",
    "        er[i]+=1\n",
    "    else:\n",
    "        er[i]=1\n",
    "x=[]\n",
    "y=[]\n",
    "for i,j in er.items():\n",
    "    x.append(i)\n",
    "    y.append(j)\n",
    "with open('worm-degree.txt','w') as fin:\n",
    "    wsr=['%d\\t%d'%(i,j)for i,j in zip(x,y)]\n",
    "    fin.write('\\n'.join(wsr))\n",
    "plt.axes(xscale='log')\n",
    "plt.scatter(x,y,s=6)"
   ]
  }
 ],
 "metadata": {
  "kernelspec": {
   "display_name": "Python 3.10.4 ('newpy')",
   "language": "python",
   "name": "python3"
  },
  "language_info": {
   "codemirror_mode": {
    "name": "ipython",
    "version": 3
   },
   "file_extension": ".py",
   "mimetype": "text/x-python",
   "name": "python",
   "nbconvert_exporter": "python",
   "pygments_lexer": "ipython3",
   "version": "3.10.4"
  },
  "orig_nbformat": 4,
  "vscode": {
   "interpreter": {
    "hash": "542d825b97ac11b281cebdad4ad38765c80ae957fca9d15ce15144617eb15d4a"
   }
  }
 },
 "nbformat": 4,
 "nbformat_minor": 2
}
